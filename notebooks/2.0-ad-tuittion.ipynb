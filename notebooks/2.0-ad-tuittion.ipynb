{
 "cells": [
  {
   "cell_type": "code",
   "execution_count": 1,
   "metadata": {},
   "outputs": [],
   "source": [
    "import pandas as pd\n",
    "import matplotlib.pyplot as plt\n",
    "import seaborn as sns\n",
    "import numpy as np\n",
    "import requests\n",
    "import config\n",
    "import time\n",
    "import random"
   ]
  },
  {
   "cell_type": "code",
   "execution_count": 4,
   "metadata": {},
   "outputs": [],
   "source": [
    "data_dictionary = {\n",
    "    \"School\": [],\n",
    "    \"City\": [],\n",
    "    \"State\": [],\n",
    "    \"Region\": [],\n",
    "    \"In-State-Tuition\": [],\n",
    "    \"Out-of-State-Tuition\": [],\n",
    "    \"Control\": [],\n",
    "    \"Highest-Degree\": [],\n",
    "    \"Predominant-Degree\": []\n",
    "}\n",
    "\n",
    "page_num = 0\n",
    "make_call = True\n",
    "\n",
    "while make_call:\n",
    "\n",
    "    base_url = \"https://api.data.gov/ed/collegescorecard/v1/schools.json?\"\n",
    "    fields = \"school.name,school.city,school.state,latest.school.degrees_awarded.predominant,latest.school.degrees_awarded.highest,latest.cost.tuition.in_state,latest.cost.tuition.out_of_state,latest.school.region_id,latest.school.ownership\"\n",
    "    api_request = f\"https://api.data.gov/ed/collegescorecard/v1/schools.json?fields={fields}&api_key={config.API_KEY}&page={page_num}&_per_page=100\"\n",
    "\n",
    "    re = requests.get(api_request)\n",
    "    data = re.json()\n",
    "\n",
    "    if data['results'] != []:\n",
    "        for school in data['results']:\n",
    "\n",
    "            if (school['latest.school.region_id'] == 0 or\n",
    "                school['latest.school.region_id'] == 9 or\n",
    "                school['latest.school.degrees_awarded.highest'] == 0 or\n",
    "                school['latest.school.degrees_awarded.highest'] == 1\n",
    "                ):\n",
    "\n",
    "                continue\n",
    "\n",
    "            data_dictionary[\"School\"].append(school['school.name'])\n",
    "            data_dictionary[\"City\"].append(school['school.city'])\n",
    "            data_dictionary[\"State\"].append(school['school.state'])\n",
    "            data_dictionary[\"Predominant-Degree\"].append(school['latest.school.degrees_awarded.predominant'])\n",
    "            data_dictionary[\"Highest-Degree\"].append(school['latest.school.degrees_awarded.highest'])\n",
    "            data_dictionary[\"Control\"].append(school['latest.school.ownership'])\n",
    "            data_dictionary[\"Region\"].append(school['latest.school.region_id'])\n",
    "            data_dictionary[\"In-State-Tuition\"].append(school['latest.cost.tuition.in_state'])\n",
    "            data_dictionary[\"Out-of-State-Tuition\"].append(school['latest.cost.tuition.out_of_state'])\n",
    "\n",
    "        page_num+=1\n",
    "\n",
    "    else:\n",
    "        make_call = False\n",
    "\n",
    "time.sleep(random.randint(0, 3))\n"
   ]
  },
  {
   "cell_type": "code",
   "execution_count": 5,
   "metadata": {},
   "outputs": [],
   "source": [
    "tuition_df = pd.DataFrame(data_dictionary)\n",
    "tuition_df.dropna(how='any', inplace=True)"
   ]
  },
  {
   "cell_type": "code",
   "execution_count": 6,
   "metadata": {},
   "outputs": [],
   "source": [
    "import plotly_express as px"
   ]
  },
  {
   "cell_type": "code",
   "execution_count": 7,
   "metadata": {},
   "outputs": [
    {
     "name": "stderr",
     "output_type": "stream",
     "text": [
      "/var/folders/k2/4kxlmrg53cd6kcm7w7j5g8nm0000gn/T/ipykernel_72641/381422436.py:1: FutureWarning: The default value of numeric_only in DataFrameGroupBy.median is deprecated. In a future version, numeric_only will default to False. Either specify numeric_only or select only columns which should be valid for the function.\n",
      "  state_df = tuition_df.groupby([\"State\"]).median()\n"
     ]
    }
   ],
   "source": [
    "state_df = tuition_df.groupby([\"State\"]).median()"
   ]
  },
  {
   "cell_type": "code",
   "execution_count": 8,
   "metadata": {},
   "outputs": [
    {
     "data": {
      "application/vnd.plotly.v1+json": {
       "config": {
        "plotlyServerURL": "https://plot.ly"
       },
       "data": [
        {
         "coloraxis": "coloraxis",
         "geo": "geo",
         "hovertemplate": "State=%{location}<br>In-State-Tuition=%{z}<extra></extra>",
         "locationmode": "USA-states",
         "locations": [
          "AK",
          "AL",
          "AR",
          "AZ",
          "CA",
          "CO",
          "CT",
          "DC",
          "DE",
          "FL",
          "GA",
          "HI",
          "IA",
          "ID",
          "IL",
          "IN",
          "KS",
          "KY",
          "LA",
          "MA",
          "MD",
          "ME",
          "MI",
          "MN",
          "MO",
          "MS",
          "MT",
          "NC",
          "ND",
          "NE",
          "NH",
          "NJ",
          "NM",
          "NV",
          "NY",
          "OH",
          "OK",
          "OR",
          "PA",
          "RI",
          "SC",
          "SD",
          "TN",
          "TX",
          "UT",
          "VA",
          "VT",
          "WA",
          "WI",
          "WV",
          "WY"
         ],
         "name": "",
         "type": "choropleth",
         "z": [
          8414,
          9265,
          7130,
          6095,
          7727,
          9680,
          15878,
          21411,
          12750,
          13497.5,
          8960,
          6068,
          19718,
          7872,
          12706,
          19469,
          7718,
          10692,
          9072,
          35790.5,
          10188,
          12313,
          13434,
          9475,
          12440,
          7068,
          4911.5,
          6084,
          6801.5,
          8310,
          15582.5,
          12350,
          2106,
          8662.5,
          12962.5,
          13541,
          7490,
          10327.5,
          23070,
          36324,
          12659,
          9000,
          15541,
          9374.5,
          8306,
          14334,
          39200,
          5740,
          9195,
          8608.5,
          4601.5
         ]
        }
       ],
       "layout": {
        "coloraxis": {
         "colorbar": {
          "title": {
           "text": "In-State-Tuition"
          }
         },
         "colorscale": [
          [
           0,
           "green"
          ],
          [
           0.5,
           "yellow"
          ],
          [
           1,
           "red"
          ]
         ]
        },
        "geo": {
         "center": {},
         "domain": {
          "x": [
           0,
           1
          ],
          "y": [
           0,
           1
          ]
         },
         "scope": "usa"
        },
        "legend": {
         "tracegroupgap": 0
        },
        "margin": {
         "t": 60
        },
        "template": {
         "data": {
          "bar": [
           {
            "error_x": {
             "color": "#2a3f5f"
            },
            "error_y": {
             "color": "#2a3f5f"
            },
            "marker": {
             "line": {
              "color": "#E5ECF6",
              "width": 0.5
             },
             "pattern": {
              "fillmode": "overlay",
              "size": 10,
              "solidity": 0.2
             }
            },
            "type": "bar"
           }
          ],
          "barpolar": [
           {
            "marker": {
             "line": {
              "color": "#E5ECF6",
              "width": 0.5
             },
             "pattern": {
              "fillmode": "overlay",
              "size": 10,
              "solidity": 0.2
             }
            },
            "type": "barpolar"
           }
          ],
          "carpet": [
           {
            "aaxis": {
             "endlinecolor": "#2a3f5f",
             "gridcolor": "white",
             "linecolor": "white",
             "minorgridcolor": "white",
             "startlinecolor": "#2a3f5f"
            },
            "baxis": {
             "endlinecolor": "#2a3f5f",
             "gridcolor": "white",
             "linecolor": "white",
             "minorgridcolor": "white",
             "startlinecolor": "#2a3f5f"
            },
            "type": "carpet"
           }
          ],
          "choropleth": [
           {
            "colorbar": {
             "outlinewidth": 0,
             "ticks": ""
            },
            "type": "choropleth"
           }
          ],
          "contour": [
           {
            "colorbar": {
             "outlinewidth": 0,
             "ticks": ""
            },
            "colorscale": [
             [
              0,
              "#0d0887"
             ],
             [
              0.1111111111111111,
              "#46039f"
             ],
             [
              0.2222222222222222,
              "#7201a8"
             ],
             [
              0.3333333333333333,
              "#9c179e"
             ],
             [
              0.4444444444444444,
              "#bd3786"
             ],
             [
              0.5555555555555556,
              "#d8576b"
             ],
             [
              0.6666666666666666,
              "#ed7953"
             ],
             [
              0.7777777777777778,
              "#fb9f3a"
             ],
             [
              0.8888888888888888,
              "#fdca26"
             ],
             [
              1,
              "#f0f921"
             ]
            ],
            "type": "contour"
           }
          ],
          "contourcarpet": [
           {
            "colorbar": {
             "outlinewidth": 0,
             "ticks": ""
            },
            "type": "contourcarpet"
           }
          ],
          "heatmap": [
           {
            "colorbar": {
             "outlinewidth": 0,
             "ticks": ""
            },
            "colorscale": [
             [
              0,
              "#0d0887"
             ],
             [
              0.1111111111111111,
              "#46039f"
             ],
             [
              0.2222222222222222,
              "#7201a8"
             ],
             [
              0.3333333333333333,
              "#9c179e"
             ],
             [
              0.4444444444444444,
              "#bd3786"
             ],
             [
              0.5555555555555556,
              "#d8576b"
             ],
             [
              0.6666666666666666,
              "#ed7953"
             ],
             [
              0.7777777777777778,
              "#fb9f3a"
             ],
             [
              0.8888888888888888,
              "#fdca26"
             ],
             [
              1,
              "#f0f921"
             ]
            ],
            "type": "heatmap"
           }
          ],
          "heatmapgl": [
           {
            "colorbar": {
             "outlinewidth": 0,
             "ticks": ""
            },
            "colorscale": [
             [
              0,
              "#0d0887"
             ],
             [
              0.1111111111111111,
              "#46039f"
             ],
             [
              0.2222222222222222,
              "#7201a8"
             ],
             [
              0.3333333333333333,
              "#9c179e"
             ],
             [
              0.4444444444444444,
              "#bd3786"
             ],
             [
              0.5555555555555556,
              "#d8576b"
             ],
             [
              0.6666666666666666,
              "#ed7953"
             ],
             [
              0.7777777777777778,
              "#fb9f3a"
             ],
             [
              0.8888888888888888,
              "#fdca26"
             ],
             [
              1,
              "#f0f921"
             ]
            ],
            "type": "heatmapgl"
           }
          ],
          "histogram": [
           {
            "marker": {
             "pattern": {
              "fillmode": "overlay",
              "size": 10,
              "solidity": 0.2
             }
            },
            "type": "histogram"
           }
          ],
          "histogram2d": [
           {
            "colorbar": {
             "outlinewidth": 0,
             "ticks": ""
            },
            "colorscale": [
             [
              0,
              "#0d0887"
             ],
             [
              0.1111111111111111,
              "#46039f"
             ],
             [
              0.2222222222222222,
              "#7201a8"
             ],
             [
              0.3333333333333333,
              "#9c179e"
             ],
             [
              0.4444444444444444,
              "#bd3786"
             ],
             [
              0.5555555555555556,
              "#d8576b"
             ],
             [
              0.6666666666666666,
              "#ed7953"
             ],
             [
              0.7777777777777778,
              "#fb9f3a"
             ],
             [
              0.8888888888888888,
              "#fdca26"
             ],
             [
              1,
              "#f0f921"
             ]
            ],
            "type": "histogram2d"
           }
          ],
          "histogram2dcontour": [
           {
            "colorbar": {
             "outlinewidth": 0,
             "ticks": ""
            },
            "colorscale": [
             [
              0,
              "#0d0887"
             ],
             [
              0.1111111111111111,
              "#46039f"
             ],
             [
              0.2222222222222222,
              "#7201a8"
             ],
             [
              0.3333333333333333,
              "#9c179e"
             ],
             [
              0.4444444444444444,
              "#bd3786"
             ],
             [
              0.5555555555555556,
              "#d8576b"
             ],
             [
              0.6666666666666666,
              "#ed7953"
             ],
             [
              0.7777777777777778,
              "#fb9f3a"
             ],
             [
              0.8888888888888888,
              "#fdca26"
             ],
             [
              1,
              "#f0f921"
             ]
            ],
            "type": "histogram2dcontour"
           }
          ],
          "mesh3d": [
           {
            "colorbar": {
             "outlinewidth": 0,
             "ticks": ""
            },
            "type": "mesh3d"
           }
          ],
          "parcoords": [
           {
            "line": {
             "colorbar": {
              "outlinewidth": 0,
              "ticks": ""
             }
            },
            "type": "parcoords"
           }
          ],
          "pie": [
           {
            "automargin": true,
            "type": "pie"
           }
          ],
          "scatter": [
           {
            "fillpattern": {
             "fillmode": "overlay",
             "size": 10,
             "solidity": 0.2
            },
            "type": "scatter"
           }
          ],
          "scatter3d": [
           {
            "line": {
             "colorbar": {
              "outlinewidth": 0,
              "ticks": ""
             }
            },
            "marker": {
             "colorbar": {
              "outlinewidth": 0,
              "ticks": ""
             }
            },
            "type": "scatter3d"
           }
          ],
          "scattercarpet": [
           {
            "marker": {
             "colorbar": {
              "outlinewidth": 0,
              "ticks": ""
             }
            },
            "type": "scattercarpet"
           }
          ],
          "scattergeo": [
           {
            "marker": {
             "colorbar": {
              "outlinewidth": 0,
              "ticks": ""
             }
            },
            "type": "scattergeo"
           }
          ],
          "scattergl": [
           {
            "marker": {
             "colorbar": {
              "outlinewidth": 0,
              "ticks": ""
             }
            },
            "type": "scattergl"
           }
          ],
          "scattermapbox": [
           {
            "marker": {
             "colorbar": {
              "outlinewidth": 0,
              "ticks": ""
             }
            },
            "type": "scattermapbox"
           }
          ],
          "scatterpolar": [
           {
            "marker": {
             "colorbar": {
              "outlinewidth": 0,
              "ticks": ""
             }
            },
            "type": "scatterpolar"
           }
          ],
          "scatterpolargl": [
           {
            "marker": {
             "colorbar": {
              "outlinewidth": 0,
              "ticks": ""
             }
            },
            "type": "scatterpolargl"
           }
          ],
          "scatterternary": [
           {
            "marker": {
             "colorbar": {
              "outlinewidth": 0,
              "ticks": ""
             }
            },
            "type": "scatterternary"
           }
          ],
          "surface": [
           {
            "colorbar": {
             "outlinewidth": 0,
             "ticks": ""
            },
            "colorscale": [
             [
              0,
              "#0d0887"
             ],
             [
              0.1111111111111111,
              "#46039f"
             ],
             [
              0.2222222222222222,
              "#7201a8"
             ],
             [
              0.3333333333333333,
              "#9c179e"
             ],
             [
              0.4444444444444444,
              "#bd3786"
             ],
             [
              0.5555555555555556,
              "#d8576b"
             ],
             [
              0.6666666666666666,
              "#ed7953"
             ],
             [
              0.7777777777777778,
              "#fb9f3a"
             ],
             [
              0.8888888888888888,
              "#fdca26"
             ],
             [
              1,
              "#f0f921"
             ]
            ],
            "type": "surface"
           }
          ],
          "table": [
           {
            "cells": {
             "fill": {
              "color": "#EBF0F8"
             },
             "line": {
              "color": "white"
             }
            },
            "header": {
             "fill": {
              "color": "#C8D4E3"
             },
             "line": {
              "color": "white"
             }
            },
            "type": "table"
           }
          ]
         },
         "layout": {
          "annotationdefaults": {
           "arrowcolor": "#2a3f5f",
           "arrowhead": 0,
           "arrowwidth": 1
          },
          "autotypenumbers": "strict",
          "coloraxis": {
           "colorbar": {
            "outlinewidth": 0,
            "ticks": ""
           }
          },
          "colorscale": {
           "diverging": [
            [
             0,
             "#8e0152"
            ],
            [
             0.1,
             "#c51b7d"
            ],
            [
             0.2,
             "#de77ae"
            ],
            [
             0.3,
             "#f1b6da"
            ],
            [
             0.4,
             "#fde0ef"
            ],
            [
             0.5,
             "#f7f7f7"
            ],
            [
             0.6,
             "#e6f5d0"
            ],
            [
             0.7,
             "#b8e186"
            ],
            [
             0.8,
             "#7fbc41"
            ],
            [
             0.9,
             "#4d9221"
            ],
            [
             1,
             "#276419"
            ]
           ],
           "sequential": [
            [
             0,
             "#0d0887"
            ],
            [
             0.1111111111111111,
             "#46039f"
            ],
            [
             0.2222222222222222,
             "#7201a8"
            ],
            [
             0.3333333333333333,
             "#9c179e"
            ],
            [
             0.4444444444444444,
             "#bd3786"
            ],
            [
             0.5555555555555556,
             "#d8576b"
            ],
            [
             0.6666666666666666,
             "#ed7953"
            ],
            [
             0.7777777777777778,
             "#fb9f3a"
            ],
            [
             0.8888888888888888,
             "#fdca26"
            ],
            [
             1,
             "#f0f921"
            ]
           ],
           "sequentialminus": [
            [
             0,
             "#0d0887"
            ],
            [
             0.1111111111111111,
             "#46039f"
            ],
            [
             0.2222222222222222,
             "#7201a8"
            ],
            [
             0.3333333333333333,
             "#9c179e"
            ],
            [
             0.4444444444444444,
             "#bd3786"
            ],
            [
             0.5555555555555556,
             "#d8576b"
            ],
            [
             0.6666666666666666,
             "#ed7953"
            ],
            [
             0.7777777777777778,
             "#fb9f3a"
            ],
            [
             0.8888888888888888,
             "#fdca26"
            ],
            [
             1,
             "#f0f921"
            ]
           ]
          },
          "colorway": [
           "#636efa",
           "#EF553B",
           "#00cc96",
           "#ab63fa",
           "#FFA15A",
           "#19d3f3",
           "#FF6692",
           "#B6E880",
           "#FF97FF",
           "#FECB52"
          ],
          "font": {
           "color": "#2a3f5f"
          },
          "geo": {
           "bgcolor": "white",
           "lakecolor": "white",
           "landcolor": "#E5ECF6",
           "showlakes": true,
           "showland": true,
           "subunitcolor": "white"
          },
          "hoverlabel": {
           "align": "left"
          },
          "hovermode": "closest",
          "mapbox": {
           "style": "light"
          },
          "paper_bgcolor": "white",
          "plot_bgcolor": "#E5ECF6",
          "polar": {
           "angularaxis": {
            "gridcolor": "white",
            "linecolor": "white",
            "ticks": ""
           },
           "bgcolor": "#E5ECF6",
           "radialaxis": {
            "gridcolor": "white",
            "linecolor": "white",
            "ticks": ""
           }
          },
          "scene": {
           "xaxis": {
            "backgroundcolor": "#E5ECF6",
            "gridcolor": "white",
            "gridwidth": 2,
            "linecolor": "white",
            "showbackground": true,
            "ticks": "",
            "zerolinecolor": "white"
           },
           "yaxis": {
            "backgroundcolor": "#E5ECF6",
            "gridcolor": "white",
            "gridwidth": 2,
            "linecolor": "white",
            "showbackground": true,
            "ticks": "",
            "zerolinecolor": "white"
           },
           "zaxis": {
            "backgroundcolor": "#E5ECF6",
            "gridcolor": "white",
            "gridwidth": 2,
            "linecolor": "white",
            "showbackground": true,
            "ticks": "",
            "zerolinecolor": "white"
           }
          },
          "shapedefaults": {
           "line": {
            "color": "#2a3f5f"
           }
          },
          "ternary": {
           "aaxis": {
            "gridcolor": "white",
            "linecolor": "white",
            "ticks": ""
           },
           "baxis": {
            "gridcolor": "white",
            "linecolor": "white",
            "ticks": ""
           },
           "bgcolor": "#E5ECF6",
           "caxis": {
            "gridcolor": "white",
            "linecolor": "white",
            "ticks": ""
           }
          },
          "title": {
           "x": 0.05
          },
          "xaxis": {
           "automargin": true,
           "gridcolor": "white",
           "linecolor": "white",
           "ticks": "",
           "title": {
            "standoff": 15
           },
           "zerolinecolor": "white",
           "zerolinewidth": 2
          },
          "yaxis": {
           "automargin": true,
           "gridcolor": "white",
           "linecolor": "white",
           "ticks": "",
           "title": {
            "standoff": 15
           },
           "zerolinecolor": "white",
           "zerolinewidth": 2
          }
         }
        }
       }
      }
     },
     "metadata": {},
     "output_type": "display_data"
    }
   ],
   "source": [
    "px.choropleth(data_frame=state_df,\n",
    "              color=\"In-State-Tuition\",\n",
    "              locationmode=\"USA-states\",\n",
    "              locations=state_df.index,\n",
    "              scope='usa',\n",
    "              color_continuous_scale=[(0, 'green'), (0.5, 'yellow'), (1, 'red')]\n",
    "    )"
   ]
  },
  {
   "cell_type": "code",
   "execution_count": 10,
   "metadata": {},
   "outputs": [
    {
     "data": {
      "text/html": [
       "<div>\n",
       "<style scoped>\n",
       "    .dataframe tbody tr th:only-of-type {\n",
       "        vertical-align: middle;\n",
       "    }\n",
       "\n",
       "    .dataframe tbody tr th {\n",
       "        vertical-align: top;\n",
       "    }\n",
       "\n",
       "    .dataframe thead th {\n",
       "        text-align: right;\n",
       "    }\n",
       "</style>\n",
       "<table border=\"1\" class=\"dataframe\">\n",
       "  <thead>\n",
       "    <tr style=\"text-align: right;\">\n",
       "      <th></th>\n",
       "      <th>Region</th>\n",
       "      <th>In-State-Tuition</th>\n",
       "      <th>Out-of-State-Tuition</th>\n",
       "      <th>Control</th>\n",
       "      <th>Highest-Degree</th>\n",
       "      <th>Predominant-Degree</th>\n",
       "    </tr>\n",
       "    <tr>\n",
       "      <th>State</th>\n",
       "      <th></th>\n",
       "      <th></th>\n",
       "      <th></th>\n",
       "      <th></th>\n",
       "      <th></th>\n",
       "      <th></th>\n",
       "    </tr>\n",
       "  </thead>\n",
       "  <tbody>\n",
       "    <tr>\n",
       "      <th>NM</th>\n",
       "      <td>6.0</td>\n",
       "      <td>2106.0</td>\n",
       "      <td>5348.5</td>\n",
       "      <td>1.0</td>\n",
       "      <td>2.0</td>\n",
       "      <td>2.0</td>\n",
       "    </tr>\n",
       "    <tr>\n",
       "      <th>WY</th>\n",
       "      <td>7.0</td>\n",
       "      <td>4601.5</td>\n",
       "      <td>10901.5</td>\n",
       "      <td>1.0</td>\n",
       "      <td>2.0</td>\n",
       "      <td>2.0</td>\n",
       "    </tr>\n",
       "    <tr>\n",
       "      <th>MT</th>\n",
       "      <td>7.0</td>\n",
       "      <td>4911.5</td>\n",
       "      <td>11203.5</td>\n",
       "      <td>1.0</td>\n",
       "      <td>3.0</td>\n",
       "      <td>2.0</td>\n",
       "    </tr>\n",
       "    <tr>\n",
       "      <th>WA</th>\n",
       "      <td>8.0</td>\n",
       "      <td>5740.0</td>\n",
       "      <td>10428.0</td>\n",
       "      <td>1.0</td>\n",
       "      <td>3.0</td>\n",
       "      <td>2.0</td>\n",
       "    </tr>\n",
       "    <tr>\n",
       "      <th>HI</th>\n",
       "      <td>8.0</td>\n",
       "      <td>6068.0</td>\n",
       "      <td>8420.0</td>\n",
       "      <td>1.0</td>\n",
       "      <td>3.0</td>\n",
       "      <td>2.0</td>\n",
       "    </tr>\n",
       "    <tr>\n",
       "      <th>NC</th>\n",
       "      <td>5.0</td>\n",
       "      <td>6084.0</td>\n",
       "      <td>9006.0</td>\n",
       "      <td>1.0</td>\n",
       "      <td>3.0</td>\n",
       "      <td>3.0</td>\n",
       "    </tr>\n",
       "    <tr>\n",
       "      <th>AZ</th>\n",
       "      <td>6.0</td>\n",
       "      <td>6095.0</td>\n",
       "      <td>9522.0</td>\n",
       "      <td>1.0</td>\n",
       "      <td>2.0</td>\n",
       "      <td>2.0</td>\n",
       "    </tr>\n",
       "    <tr>\n",
       "      <th>ND</th>\n",
       "      <td>4.0</td>\n",
       "      <td>6801.5</td>\n",
       "      <td>7757.5</td>\n",
       "      <td>1.0</td>\n",
       "      <td>4.0</td>\n",
       "      <td>2.0</td>\n",
       "    </tr>\n",
       "    <tr>\n",
       "      <th>MS</th>\n",
       "      <td>5.0</td>\n",
       "      <td>7068.0</td>\n",
       "      <td>7670.0</td>\n",
       "      <td>1.0</td>\n",
       "      <td>3.0</td>\n",
       "      <td>3.0</td>\n",
       "    </tr>\n",
       "    <tr>\n",
       "      <th>AR</th>\n",
       "      <td>5.0</td>\n",
       "      <td>7130.0</td>\n",
       "      <td>8280.0</td>\n",
       "      <td>1.0</td>\n",
       "      <td>3.0</td>\n",
       "      <td>2.0</td>\n",
       "    </tr>\n",
       "  </tbody>\n",
       "</table>\n",
       "</div>"
      ],
      "text/plain": [
       "       Region  In-State-Tuition  Out-of-State-Tuition  Control  \\\n",
       "State                                                            \n",
       "NM        6.0            2106.0                5348.5      1.0   \n",
       "WY        7.0            4601.5               10901.5      1.0   \n",
       "MT        7.0            4911.5               11203.5      1.0   \n",
       "WA        8.0            5740.0               10428.0      1.0   \n",
       "HI        8.0            6068.0                8420.0      1.0   \n",
       "NC        5.0            6084.0                9006.0      1.0   \n",
       "AZ        6.0            6095.0                9522.0      1.0   \n",
       "ND        4.0            6801.5                7757.5      1.0   \n",
       "MS        5.0            7068.0                7670.0      1.0   \n",
       "AR        5.0            7130.0                8280.0      1.0   \n",
       "\n",
       "       Highest-Degree  Predominant-Degree  \n",
       "State                                      \n",
       "NM                2.0                 2.0  \n",
       "WY                2.0                 2.0  \n",
       "MT                3.0                 2.0  \n",
       "WA                3.0                 2.0  \n",
       "HI                3.0                 2.0  \n",
       "NC                3.0                 3.0  \n",
       "AZ                2.0                 2.0  \n",
       "ND                4.0                 2.0  \n",
       "MS                3.0                 3.0  \n",
       "AR                3.0                 2.0  "
      ]
     },
     "execution_count": 10,
     "metadata": {},
     "output_type": "execute_result"
    }
   ],
   "source": [
    "state_df.sort_values(by=\"In-State-Tuition\").head(10)"
   ]
  },
  {
   "attachments": {},
   "cell_type": "markdown",
   "metadata": {},
   "source": [
    "# Overall bachelors degree affordability"
   ]
  },
  {
   "cell_type": "code",
   "execution_count": 11,
   "metadata": {},
   "outputs": [
    {
     "name": "stderr",
     "output_type": "stream",
     "text": [
      "/var/folders/k2/4kxlmrg53cd6kcm7w7j5g8nm0000gn/T/ipykernel_72641/1473999880.py:2: FutureWarning:\n",
      "\n",
      "The default value of numeric_only in DataFrameGroupBy.median is deprecated. In a future version, numeric_only will default to False. Either specify numeric_only or select only columns which should be valid for the function.\n",
      "\n"
     ]
    }
   ],
   "source": [
    "bachelor_df = tuition_df[tuition_df[\"Predominant-Degree\"] == 3]\n",
    "bachelor_df = bachelor_df.groupby([\"State\"]).median()"
   ]
  },
  {
   "cell_type": "code",
   "execution_count": 12,
   "metadata": {},
   "outputs": [
    {
     "data": {
      "application/vnd.plotly.v1+json": {
       "config": {
        "plotlyServerURL": "https://plot.ly"
       },
       "data": [
        {
         "coloraxis": "coloraxis",
         "geo": "geo",
         "hovertemplate": "locations=%{location}<br>In-State-Tuition=%{z}<extra></extra>",
         "locationmode": "USA-states",
         "locations": [
          "AK",
          "AL",
          "AR",
          "AZ",
          "CA",
          "CO",
          "CT",
          "DC",
          "DE",
          "FL",
          "GA",
          "HI",
          "IA",
          "ID",
          "IL",
          "IN",
          "KS",
          "KY",
          "LA",
          "MA",
          "MD",
          "ME",
          "MI",
          "MN",
          "MO",
          "MS",
          "MT",
          "NC",
          "ND",
          "NE",
          "NH",
          "NJ",
          "NM",
          "NV",
          "NY",
          "OH",
          "OK",
          "OR",
          "PA",
          "RI",
          "SC",
          "SD",
          "TN",
          "TX",
          "UT",
          "VA",
          "VT",
          "WA",
          "WI",
          "WV",
          "WY"
         ],
         "name": "",
         "type": "choropleth",
         "z": [
          9761,
          11729,
          11294,
          17644,
          21900,
          12331,
          29760,
          25110,
          12750,
          15775,
          14494,
          12186,
          33609,
          8340,
          30345,
          28192,
          30864,
          23750,
          10065,
          41064,
          13357.5,
          20430,
          23403,
          21272,
          17488,
          9220,
          7480,
          18550,
          10596,
          16986.5,
          24400,
          15140,
          7301,
          17488,
          17674,
          28770,
          10628,
          26256,
          34460,
          39594,
          17046,
          9633,
          19212,
          13500,
          8926.5,
          19354,
          41092,
          24370,
          21785,
          8886,
          6277
         ]
        }
       ],
       "layout": {
        "coloraxis": {
         "colorbar": {
          "title": {
           "text": "In-State-Tuition"
          }
         },
         "colorscale": [
          [
           0,
           "green"
          ],
          [
           0.5,
           "yellow"
          ],
          [
           1,
           "red"
          ]
         ]
        },
        "geo": {
         "center": {},
         "domain": {
          "x": [
           0,
           1
          ],
          "y": [
           0,
           1
          ]
         },
         "scope": "usa"
        },
        "legend": {
         "tracegroupgap": 0
        },
        "margin": {
         "t": 60
        },
        "template": {
         "data": {
          "bar": [
           {
            "error_x": {
             "color": "#2a3f5f"
            },
            "error_y": {
             "color": "#2a3f5f"
            },
            "marker": {
             "line": {
              "color": "#E5ECF6",
              "width": 0.5
             },
             "pattern": {
              "fillmode": "overlay",
              "size": 10,
              "solidity": 0.2
             }
            },
            "type": "bar"
           }
          ],
          "barpolar": [
           {
            "marker": {
             "line": {
              "color": "#E5ECF6",
              "width": 0.5
             },
             "pattern": {
              "fillmode": "overlay",
              "size": 10,
              "solidity": 0.2
             }
            },
            "type": "barpolar"
           }
          ],
          "carpet": [
           {
            "aaxis": {
             "endlinecolor": "#2a3f5f",
             "gridcolor": "white",
             "linecolor": "white",
             "minorgridcolor": "white",
             "startlinecolor": "#2a3f5f"
            },
            "baxis": {
             "endlinecolor": "#2a3f5f",
             "gridcolor": "white",
             "linecolor": "white",
             "minorgridcolor": "white",
             "startlinecolor": "#2a3f5f"
            },
            "type": "carpet"
           }
          ],
          "choropleth": [
           {
            "colorbar": {
             "outlinewidth": 0,
             "ticks": ""
            },
            "type": "choropleth"
           }
          ],
          "contour": [
           {
            "colorbar": {
             "outlinewidth": 0,
             "ticks": ""
            },
            "colorscale": [
             [
              0,
              "#0d0887"
             ],
             [
              0.1111111111111111,
              "#46039f"
             ],
             [
              0.2222222222222222,
              "#7201a8"
             ],
             [
              0.3333333333333333,
              "#9c179e"
             ],
             [
              0.4444444444444444,
              "#bd3786"
             ],
             [
              0.5555555555555556,
              "#d8576b"
             ],
             [
              0.6666666666666666,
              "#ed7953"
             ],
             [
              0.7777777777777778,
              "#fb9f3a"
             ],
             [
              0.8888888888888888,
              "#fdca26"
             ],
             [
              1,
              "#f0f921"
             ]
            ],
            "type": "contour"
           }
          ],
          "contourcarpet": [
           {
            "colorbar": {
             "outlinewidth": 0,
             "ticks": ""
            },
            "type": "contourcarpet"
           }
          ],
          "heatmap": [
           {
            "colorbar": {
             "outlinewidth": 0,
             "ticks": ""
            },
            "colorscale": [
             [
              0,
              "#0d0887"
             ],
             [
              0.1111111111111111,
              "#46039f"
             ],
             [
              0.2222222222222222,
              "#7201a8"
             ],
             [
              0.3333333333333333,
              "#9c179e"
             ],
             [
              0.4444444444444444,
              "#bd3786"
             ],
             [
              0.5555555555555556,
              "#d8576b"
             ],
             [
              0.6666666666666666,
              "#ed7953"
             ],
             [
              0.7777777777777778,
              "#fb9f3a"
             ],
             [
              0.8888888888888888,
              "#fdca26"
             ],
             [
              1,
              "#f0f921"
             ]
            ],
            "type": "heatmap"
           }
          ],
          "heatmapgl": [
           {
            "colorbar": {
             "outlinewidth": 0,
             "ticks": ""
            },
            "colorscale": [
             [
              0,
              "#0d0887"
             ],
             [
              0.1111111111111111,
              "#46039f"
             ],
             [
              0.2222222222222222,
              "#7201a8"
             ],
             [
              0.3333333333333333,
              "#9c179e"
             ],
             [
              0.4444444444444444,
              "#bd3786"
             ],
             [
              0.5555555555555556,
              "#d8576b"
             ],
             [
              0.6666666666666666,
              "#ed7953"
             ],
             [
              0.7777777777777778,
              "#fb9f3a"
             ],
             [
              0.8888888888888888,
              "#fdca26"
             ],
             [
              1,
              "#f0f921"
             ]
            ],
            "type": "heatmapgl"
           }
          ],
          "histogram": [
           {
            "marker": {
             "pattern": {
              "fillmode": "overlay",
              "size": 10,
              "solidity": 0.2
             }
            },
            "type": "histogram"
           }
          ],
          "histogram2d": [
           {
            "colorbar": {
             "outlinewidth": 0,
             "ticks": ""
            },
            "colorscale": [
             [
              0,
              "#0d0887"
             ],
             [
              0.1111111111111111,
              "#46039f"
             ],
             [
              0.2222222222222222,
              "#7201a8"
             ],
             [
              0.3333333333333333,
              "#9c179e"
             ],
             [
              0.4444444444444444,
              "#bd3786"
             ],
             [
              0.5555555555555556,
              "#d8576b"
             ],
             [
              0.6666666666666666,
              "#ed7953"
             ],
             [
              0.7777777777777778,
              "#fb9f3a"
             ],
             [
              0.8888888888888888,
              "#fdca26"
             ],
             [
              1,
              "#f0f921"
             ]
            ],
            "type": "histogram2d"
           }
          ],
          "histogram2dcontour": [
           {
            "colorbar": {
             "outlinewidth": 0,
             "ticks": ""
            },
            "colorscale": [
             [
              0,
              "#0d0887"
             ],
             [
              0.1111111111111111,
              "#46039f"
             ],
             [
              0.2222222222222222,
              "#7201a8"
             ],
             [
              0.3333333333333333,
              "#9c179e"
             ],
             [
              0.4444444444444444,
              "#bd3786"
             ],
             [
              0.5555555555555556,
              "#d8576b"
             ],
             [
              0.6666666666666666,
              "#ed7953"
             ],
             [
              0.7777777777777778,
              "#fb9f3a"
             ],
             [
              0.8888888888888888,
              "#fdca26"
             ],
             [
              1,
              "#f0f921"
             ]
            ],
            "type": "histogram2dcontour"
           }
          ],
          "mesh3d": [
           {
            "colorbar": {
             "outlinewidth": 0,
             "ticks": ""
            },
            "type": "mesh3d"
           }
          ],
          "parcoords": [
           {
            "line": {
             "colorbar": {
              "outlinewidth": 0,
              "ticks": ""
             }
            },
            "type": "parcoords"
           }
          ],
          "pie": [
           {
            "automargin": true,
            "type": "pie"
           }
          ],
          "scatter": [
           {
            "fillpattern": {
             "fillmode": "overlay",
             "size": 10,
             "solidity": 0.2
            },
            "type": "scatter"
           }
          ],
          "scatter3d": [
           {
            "line": {
             "colorbar": {
              "outlinewidth": 0,
              "ticks": ""
             }
            },
            "marker": {
             "colorbar": {
              "outlinewidth": 0,
              "ticks": ""
             }
            },
            "type": "scatter3d"
           }
          ],
          "scattercarpet": [
           {
            "marker": {
             "colorbar": {
              "outlinewidth": 0,
              "ticks": ""
             }
            },
            "type": "scattercarpet"
           }
          ],
          "scattergeo": [
           {
            "marker": {
             "colorbar": {
              "outlinewidth": 0,
              "ticks": ""
             }
            },
            "type": "scattergeo"
           }
          ],
          "scattergl": [
           {
            "marker": {
             "colorbar": {
              "outlinewidth": 0,
              "ticks": ""
             }
            },
            "type": "scattergl"
           }
          ],
          "scattermapbox": [
           {
            "marker": {
             "colorbar": {
              "outlinewidth": 0,
              "ticks": ""
             }
            },
            "type": "scattermapbox"
           }
          ],
          "scatterpolar": [
           {
            "marker": {
             "colorbar": {
              "outlinewidth": 0,
              "ticks": ""
             }
            },
            "type": "scatterpolar"
           }
          ],
          "scatterpolargl": [
           {
            "marker": {
             "colorbar": {
              "outlinewidth": 0,
              "ticks": ""
             }
            },
            "type": "scatterpolargl"
           }
          ],
          "scatterternary": [
           {
            "marker": {
             "colorbar": {
              "outlinewidth": 0,
              "ticks": ""
             }
            },
            "type": "scatterternary"
           }
          ],
          "surface": [
           {
            "colorbar": {
             "outlinewidth": 0,
             "ticks": ""
            },
            "colorscale": [
             [
              0,
              "#0d0887"
             ],
             [
              0.1111111111111111,
              "#46039f"
             ],
             [
              0.2222222222222222,
              "#7201a8"
             ],
             [
              0.3333333333333333,
              "#9c179e"
             ],
             [
              0.4444444444444444,
              "#bd3786"
             ],
             [
              0.5555555555555556,
              "#d8576b"
             ],
             [
              0.6666666666666666,
              "#ed7953"
             ],
             [
              0.7777777777777778,
              "#fb9f3a"
             ],
             [
              0.8888888888888888,
              "#fdca26"
             ],
             [
              1,
              "#f0f921"
             ]
            ],
            "type": "surface"
           }
          ],
          "table": [
           {
            "cells": {
             "fill": {
              "color": "#EBF0F8"
             },
             "line": {
              "color": "white"
             }
            },
            "header": {
             "fill": {
              "color": "#C8D4E3"
             },
             "line": {
              "color": "white"
             }
            },
            "type": "table"
           }
          ]
         },
         "layout": {
          "annotationdefaults": {
           "arrowcolor": "#2a3f5f",
           "arrowhead": 0,
           "arrowwidth": 1
          },
          "autotypenumbers": "strict",
          "coloraxis": {
           "colorbar": {
            "outlinewidth": 0,
            "ticks": ""
           }
          },
          "colorscale": {
           "diverging": [
            [
             0,
             "#8e0152"
            ],
            [
             0.1,
             "#c51b7d"
            ],
            [
             0.2,
             "#de77ae"
            ],
            [
             0.3,
             "#f1b6da"
            ],
            [
             0.4,
             "#fde0ef"
            ],
            [
             0.5,
             "#f7f7f7"
            ],
            [
             0.6,
             "#e6f5d0"
            ],
            [
             0.7,
             "#b8e186"
            ],
            [
             0.8,
             "#7fbc41"
            ],
            [
             0.9,
             "#4d9221"
            ],
            [
             1,
             "#276419"
            ]
           ],
           "sequential": [
            [
             0,
             "#0d0887"
            ],
            [
             0.1111111111111111,
             "#46039f"
            ],
            [
             0.2222222222222222,
             "#7201a8"
            ],
            [
             0.3333333333333333,
             "#9c179e"
            ],
            [
             0.4444444444444444,
             "#bd3786"
            ],
            [
             0.5555555555555556,
             "#d8576b"
            ],
            [
             0.6666666666666666,
             "#ed7953"
            ],
            [
             0.7777777777777778,
             "#fb9f3a"
            ],
            [
             0.8888888888888888,
             "#fdca26"
            ],
            [
             1,
             "#f0f921"
            ]
           ],
           "sequentialminus": [
            [
             0,
             "#0d0887"
            ],
            [
             0.1111111111111111,
             "#46039f"
            ],
            [
             0.2222222222222222,
             "#7201a8"
            ],
            [
             0.3333333333333333,
             "#9c179e"
            ],
            [
             0.4444444444444444,
             "#bd3786"
            ],
            [
             0.5555555555555556,
             "#d8576b"
            ],
            [
             0.6666666666666666,
             "#ed7953"
            ],
            [
             0.7777777777777778,
             "#fb9f3a"
            ],
            [
             0.8888888888888888,
             "#fdca26"
            ],
            [
             1,
             "#f0f921"
            ]
           ]
          },
          "colorway": [
           "#636efa",
           "#EF553B",
           "#00cc96",
           "#ab63fa",
           "#FFA15A",
           "#19d3f3",
           "#FF6692",
           "#B6E880",
           "#FF97FF",
           "#FECB52"
          ],
          "font": {
           "color": "#2a3f5f"
          },
          "geo": {
           "bgcolor": "white",
           "lakecolor": "white",
           "landcolor": "#E5ECF6",
           "showlakes": true,
           "showland": true,
           "subunitcolor": "white"
          },
          "hoverlabel": {
           "align": "left"
          },
          "hovermode": "closest",
          "mapbox": {
           "style": "light"
          },
          "paper_bgcolor": "white",
          "plot_bgcolor": "#E5ECF6",
          "polar": {
           "angularaxis": {
            "gridcolor": "white",
            "linecolor": "white",
            "ticks": ""
           },
           "bgcolor": "#E5ECF6",
           "radialaxis": {
            "gridcolor": "white",
            "linecolor": "white",
            "ticks": ""
           }
          },
          "scene": {
           "xaxis": {
            "backgroundcolor": "#E5ECF6",
            "gridcolor": "white",
            "gridwidth": 2,
            "linecolor": "white",
            "showbackground": true,
            "ticks": "",
            "zerolinecolor": "white"
           },
           "yaxis": {
            "backgroundcolor": "#E5ECF6",
            "gridcolor": "white",
            "gridwidth": 2,
            "linecolor": "white",
            "showbackground": true,
            "ticks": "",
            "zerolinecolor": "white"
           },
           "zaxis": {
            "backgroundcolor": "#E5ECF6",
            "gridcolor": "white",
            "gridwidth": 2,
            "linecolor": "white",
            "showbackground": true,
            "ticks": "",
            "zerolinecolor": "white"
           }
          },
          "shapedefaults": {
           "line": {
            "color": "#2a3f5f"
           }
          },
          "ternary": {
           "aaxis": {
            "gridcolor": "white",
            "linecolor": "white",
            "ticks": ""
           },
           "baxis": {
            "gridcolor": "white",
            "linecolor": "white",
            "ticks": ""
           },
           "bgcolor": "#E5ECF6",
           "caxis": {
            "gridcolor": "white",
            "linecolor": "white",
            "ticks": ""
           }
          },
          "title": {
           "x": 0.05
          },
          "xaxis": {
           "automargin": true,
           "gridcolor": "white",
           "linecolor": "white",
           "ticks": "",
           "title": {
            "standoff": 15
           },
           "zerolinecolor": "white",
           "zerolinewidth": 2
          },
          "yaxis": {
           "automargin": true,
           "gridcolor": "white",
           "linecolor": "white",
           "ticks": "",
           "title": {
            "standoff": 15
           },
           "zerolinecolor": "white",
           "zerolinewidth": 2
          }
         }
        }
       }
      }
     },
     "metadata": {},
     "output_type": "display_data"
    }
   ],
   "source": [
    "px.choropleth(data_frame=bachelor_df,\n",
    "              color=\"In-State-Tuition\",\n",
    "              locationmode=\"USA-states\",\n",
    "              locations=state_df.index,\n",
    "              scope='usa',\n",
    "              color_continuous_scale=[(0, 'green'), (0.5, 'yellow'), (1, 'red')]\n",
    "    )"
   ]
  },
  {
   "cell_type": "code",
   "execution_count": 13,
   "metadata": {},
   "outputs": [
    {
     "data": {
      "text/html": [
       "<div>\n",
       "<style scoped>\n",
       "    .dataframe tbody tr th:only-of-type {\n",
       "        vertical-align: middle;\n",
       "    }\n",
       "\n",
       "    .dataframe tbody tr th {\n",
       "        vertical-align: top;\n",
       "    }\n",
       "\n",
       "    .dataframe thead th {\n",
       "        text-align: right;\n",
       "    }\n",
       "</style>\n",
       "<table border=\"1\" class=\"dataframe\">\n",
       "  <thead>\n",
       "    <tr style=\"text-align: right;\">\n",
       "      <th></th>\n",
       "      <th>Region</th>\n",
       "      <th>In-State-Tuition</th>\n",
       "      <th>Out-of-State-Tuition</th>\n",
       "      <th>Control</th>\n",
       "      <th>Highest-Degree</th>\n",
       "      <th>Predominant-Degree</th>\n",
       "    </tr>\n",
       "    <tr>\n",
       "      <th>State</th>\n",
       "      <th></th>\n",
       "      <th></th>\n",
       "      <th></th>\n",
       "      <th></th>\n",
       "      <th></th>\n",
       "      <th></th>\n",
       "    </tr>\n",
       "  </thead>\n",
       "  <tbody>\n",
       "    <tr>\n",
       "      <th>WY</th>\n",
       "      <td>7.0</td>\n",
       "      <td>6277.0</td>\n",
       "      <td>20827.0</td>\n",
       "      <td>1.0</td>\n",
       "      <td>4.0</td>\n",
       "      <td>3.0</td>\n",
       "    </tr>\n",
       "    <tr>\n",
       "      <th>NM</th>\n",
       "      <td>6.0</td>\n",
       "      <td>7301.0</td>\n",
       "      <td>16200.0</td>\n",
       "      <td>1.0</td>\n",
       "      <td>4.0</td>\n",
       "      <td>3.0</td>\n",
       "    </tr>\n",
       "    <tr>\n",
       "      <th>MT</th>\n",
       "      <td>7.0</td>\n",
       "      <td>7480.0</td>\n",
       "      <td>24691.0</td>\n",
       "      <td>1.0</td>\n",
       "      <td>4.0</td>\n",
       "      <td>3.0</td>\n",
       "    </tr>\n",
       "    <tr>\n",
       "      <th>ID</th>\n",
       "      <td>7.0</td>\n",
       "      <td>8340.0</td>\n",
       "      <td>24980.0</td>\n",
       "      <td>2.0</td>\n",
       "      <td>4.0</td>\n",
       "      <td>3.0</td>\n",
       "    </tr>\n",
       "    <tr>\n",
       "      <th>WV</th>\n",
       "      <td>5.0</td>\n",
       "      <td>8886.0</td>\n",
       "      <td>18224.0</td>\n",
       "      <td>2.0</td>\n",
       "      <td>4.0</td>\n",
       "      <td>3.0</td>\n",
       "    </tr>\n",
       "    <tr>\n",
       "      <th>UT</th>\n",
       "      <td>7.0</td>\n",
       "      <td>8926.5</td>\n",
       "      <td>17112.0</td>\n",
       "      <td>2.0</td>\n",
       "      <td>4.0</td>\n",
       "      <td>3.0</td>\n",
       "    </tr>\n",
       "    <tr>\n",
       "      <th>MS</th>\n",
       "      <td>5.0</td>\n",
       "      <td>9220.0</td>\n",
       "      <td>11204.0</td>\n",
       "      <td>2.0</td>\n",
       "      <td>4.0</td>\n",
       "      <td>3.0</td>\n",
       "    </tr>\n",
       "    <tr>\n",
       "      <th>SD</th>\n",
       "      <td>4.0</td>\n",
       "      <td>9633.0</td>\n",
       "      <td>12942.0</td>\n",
       "      <td>2.0</td>\n",
       "      <td>4.0</td>\n",
       "      <td>3.0</td>\n",
       "    </tr>\n",
       "    <tr>\n",
       "      <th>AK</th>\n",
       "      <td>8.0</td>\n",
       "      <td>9761.0</td>\n",
       "      <td>21072.0</td>\n",
       "      <td>1.5</td>\n",
       "      <td>4.0</td>\n",
       "      <td>3.0</td>\n",
       "    </tr>\n",
       "    <tr>\n",
       "      <th>LA</th>\n",
       "      <td>5.0</td>\n",
       "      <td>10065.0</td>\n",
       "      <td>19284.0</td>\n",
       "      <td>1.0</td>\n",
       "      <td>4.0</td>\n",
       "      <td>3.0</td>\n",
       "    </tr>\n",
       "  </tbody>\n",
       "</table>\n",
       "</div>"
      ],
      "text/plain": [
       "       Region  In-State-Tuition  Out-of-State-Tuition  Control  \\\n",
       "State                                                            \n",
       "WY        7.0            6277.0               20827.0      1.0   \n",
       "NM        6.0            7301.0               16200.0      1.0   \n",
       "MT        7.0            7480.0               24691.0      1.0   \n",
       "ID        7.0            8340.0               24980.0      2.0   \n",
       "WV        5.0            8886.0               18224.0      2.0   \n",
       "UT        7.0            8926.5               17112.0      2.0   \n",
       "MS        5.0            9220.0               11204.0      2.0   \n",
       "SD        4.0            9633.0               12942.0      2.0   \n",
       "AK        8.0            9761.0               21072.0      1.5   \n",
       "LA        5.0           10065.0               19284.0      1.0   \n",
       "\n",
       "       Highest-Degree  Predominant-Degree  \n",
       "State                                      \n",
       "WY                4.0                 3.0  \n",
       "NM                4.0                 3.0  \n",
       "MT                4.0                 3.0  \n",
       "ID                4.0                 3.0  \n",
       "WV                4.0                 3.0  \n",
       "UT                4.0                 3.0  \n",
       "MS                4.0                 3.0  \n",
       "SD                4.0                 3.0  \n",
       "AK                4.0                 3.0  \n",
       "LA                4.0                 3.0  "
      ]
     },
     "execution_count": 13,
     "metadata": {},
     "output_type": "execute_result"
    }
   ],
   "source": [
    "bachelor_df.sort_values(by=\"In-State-Tuition\").head(10)"
   ]
  },
  {
   "attachments": {},
   "cell_type": "markdown",
   "metadata": {},
   "source": [
    "# Affordability by Region"
   ]
  },
  {
   "cell_type": "code",
   "execution_count": 14,
   "metadata": {},
   "outputs": [],
   "source": [
    "region_rename = {\n",
    "    1: \"New England (CT, ME, MA, NH, RI, VT)\",\n",
    "    2: \"Mid East (DE, DC, MD, NJ, NY, PA)\",\n",
    "    3: \"Great Lakes (IL, IN, MI, OH, WI)\",\n",
    "    4: \"Plains (IA, KS, MN, MO, NE, ND, SD)\",\n",
    "    5: \"Southeast (AL, AR, FL, GA, KY, LA, MS, NC, SC, TN, VA, WV)\",\n",
    "    6: \"Southwest (AZ, NM, OK, TX)\",\n",
    "    7: \"Rocky Mountains (CO, ID, MT, UT, WY)\",\n",
    "    8: \"Far West (AK, CA, HI, NV, OR, WA)\"\n",
    "}\n",
    "\n",
    "tuition_df['Region'] = tuition_df[\"Region\"].map(region_rename)"
   ]
  },
  {
   "cell_type": "code",
   "execution_count": 15,
   "metadata": {},
   "outputs": [
    {
     "data": {
      "image/png": "[encoded data removed]",
      "text/plain": [
       "<Figure size 1400x600 with 1 Axes>"
      ]
     },
     "metadata": {},
     "output_type": "display_data"
    }
   ],
   "source": [
    "region_df = tuition_df[tuition_df[\"Predominant-Degree\"] == 3]\n",
    "\n",
    "fig, ax = plt.subplots(figsize=(14,6))\n",
    "sns.boxplot(ax=ax, data=region_df, y=\"In-State-Tuition\", x=\"Region\", palette='pastel')\n",
    "\n",
    "ax.set_ylabel('In-State Tuition', fontsize=14, weight='bold')\n",
    "ax.set_xticklabels(labels=region_df['Region'].unique(), rotation=60)\n",
    "\n",
    "ax.set_title('In-State Tuition by Region', fontsize=20, weight='bold')\n",
    "ax.grid(True)\n",
    "\n"
   ]
  },
  {
   "cell_type": "code",
   "execution_count": 16,
   "metadata": {},
   "outputs": [
    {
     "name": "stderr",
     "output_type": "stream",
     "text": [
      "/var/folders/k2/4kxlmrg53cd6kcm7w7j5g8nm0000gn/T/ipykernel_72641/1434775010.py:1: FutureWarning:\n",
      "\n",
      "The default value of numeric_only in DataFrameGroupBy.median is deprecated. In a future version, numeric_only will default to False. Either specify numeric_only or select only columns which should be valid for the function.\n",
      "\n"
     ]
    },
    {
     "data": {
      "text/html": [
       "<div>\n",
       "<style scoped>\n",
       "    .dataframe tbody tr th:only-of-type {\n",
       "        vertical-align: middle;\n",
       "    }\n",
       "\n",
       "    .dataframe tbody tr th {\n",
       "        vertical-align: top;\n",
       "    }\n",
       "\n",
       "    .dataframe thead th {\n",
       "        text-align: right;\n",
       "    }\n",
       "</style>\n",
       "<table border=\"1\" class=\"dataframe\">\n",
       "  <thead>\n",
       "    <tr style=\"text-align: right;\">\n",
       "      <th></th>\n",
       "      <th>In-State-Tuition</th>\n",
       "      <th>Out-of-State-Tuition</th>\n",
       "      <th>Control</th>\n",
       "      <th>Highest-Degree</th>\n",
       "      <th>Predominant-Degree</th>\n",
       "    </tr>\n",
       "    <tr>\n",
       "      <th>Region</th>\n",
       "      <th></th>\n",
       "      <th></th>\n",
       "      <th></th>\n",
       "      <th></th>\n",
       "      <th></th>\n",
       "    </tr>\n",
       "  </thead>\n",
       "  <tbody>\n",
       "    <tr>\n",
       "      <th>Rocky Mountains (CO, ID, MT, UT, WY)</th>\n",
       "      <td>7416.0</td>\n",
       "      <td>15478.0</td>\n",
       "      <td>1.0</td>\n",
       "      <td>3.0</td>\n",
       "      <td>3.0</td>\n",
       "    </tr>\n",
       "    <tr>\n",
       "      <th>Far West (AK, CA, HI, NV, OR, WA)</th>\n",
       "      <td>7685.5</td>\n",
       "      <td>12596.0</td>\n",
       "      <td>1.0</td>\n",
       "      <td>3.0</td>\n",
       "      <td>2.0</td>\n",
       "    </tr>\n",
       "    <tr>\n",
       "      <th>Southwest (AZ, NM, OK, TX)</th>\n",
       "      <td>7812.0</td>\n",
       "      <td>13363.0</td>\n",
       "      <td>1.0</td>\n",
       "      <td>3.0</td>\n",
       "      <td>3.0</td>\n",
       "    </tr>\n",
       "    <tr>\n",
       "      <th>Plains (IA, KS, MN, MO, NE, ND, SD)</th>\n",
       "      <td>9806.0</td>\n",
       "      <td>14475.0</td>\n",
       "      <td>2.0</td>\n",
       "      <td>4.0</td>\n",
       "      <td>3.0</td>\n",
       "    </tr>\n",
       "    <tr>\n",
       "      <th>Southeast (AL, AR, FL, GA, KY, LA, MS, NC, SC, TN, VA, WV)</th>\n",
       "      <td>10350.0</td>\n",
       "      <td>15240.0</td>\n",
       "      <td>2.0</td>\n",
       "      <td>3.0</td>\n",
       "      <td>3.0</td>\n",
       "    </tr>\n",
       "    <tr>\n",
       "      <th>Great Lakes (IL, IN, MI, OH, WI)</th>\n",
       "      <td>13342.0</td>\n",
       "      <td>17340.0</td>\n",
       "      <td>2.0</td>\n",
       "      <td>3.0</td>\n",
       "      <td>3.0</td>\n",
       "    </tr>\n",
       "    <tr>\n",
       "      <th>Mid East (DE, DC, MD, NJ, NY, PA)</th>\n",
       "      <td>14675.0</td>\n",
       "      <td>18454.0</td>\n",
       "      <td>2.0</td>\n",
       "      <td>4.0</td>\n",
       "      <td>3.0</td>\n",
       "    </tr>\n",
       "    <tr>\n",
       "      <th>New England (CT, ME, MA, NH, RI, VT)</th>\n",
       "      <td>22490.0</td>\n",
       "      <td>32813.0</td>\n",
       "      <td>2.0</td>\n",
       "      <td>4.0</td>\n",
       "      <td>3.0</td>\n",
       "    </tr>\n",
       "  </tbody>\n",
       "</table>\n",
       "</div>"
      ],
      "text/plain": [
       "                                                    In-State-Tuition  \\\n",
       "Region                                                                 \n",
       "Rocky Mountains (CO, ID, MT, UT, WY)                          7416.0   \n",
       "Far West (AK, CA, HI, NV, OR, WA)                             7685.5   \n",
       "Southwest (AZ, NM, OK, TX)                                    7812.0   \n",
       "Plains (IA, KS, MN, MO, NE, ND, SD)                           9806.0   \n",
       "Southeast (AL, AR, FL, GA, KY, LA, MS, NC, SC, ...           10350.0   \n",
       "Great Lakes (IL, IN, MI, OH, WI)                             13342.0   \n",
       "Mid East (DE, DC, MD, NJ, NY, PA)                            14675.0   \n",
       "New England (CT, ME, MA, NH, RI, VT)                         22490.0   \n",
       "\n",
       "                                                    Out-of-State-Tuition  \\\n",
       "Region                                                                     \n",
       "Rocky Mountains (CO, ID, MT, UT, WY)                             15478.0   \n",
       "Far West (AK, CA, HI, NV, OR, WA)                                12596.0   \n",
       "Southwest (AZ, NM, OK, TX)                                       13363.0   \n",
       "Plains (IA, KS, MN, MO, NE, ND, SD)                              14475.0   \n",
       "Southeast (AL, AR, FL, GA, KY, LA, MS, NC, SC, ...               15240.0   \n",
       "Great Lakes (IL, IN, MI, OH, WI)                                 17340.0   \n",
       "Mid East (DE, DC, MD, NJ, NY, PA)                                18454.0   \n",
       "New England (CT, ME, MA, NH, RI, VT)                             32813.0   \n",
       "\n",
       "                                                    Control  Highest-Degree  \\\n",
       "Region                                                                        \n",
       "Rocky Mountains (CO, ID, MT, UT, WY)                    1.0             3.0   \n",
       "Far West (AK, CA, HI, NV, OR, WA)                       1.0             3.0   \n",
       "Southwest (AZ, NM, OK, TX)                              1.0             3.0   \n",
       "Plains (IA, KS, MN, MO, NE, ND, SD)                     2.0             4.0   \n",
       "Southeast (AL, AR, FL, GA, KY, LA, MS, NC, SC, ...      2.0             3.0   \n",
       "Great Lakes (IL, IN, MI, OH, WI)                        2.0             3.0   \n",
       "Mid East (DE, DC, MD, NJ, NY, PA)                       2.0             4.0   \n",
       "New England (CT, ME, MA, NH, RI, VT)                    2.0             4.0   \n",
       "\n",
       "                                                    Predominant-Degree  \n",
       "Region                                                                  \n",
       "Rocky Mountains (CO, ID, MT, UT, WY)                               3.0  \n",
       "Far West (AK, CA, HI, NV, OR, WA)                                  2.0  \n",
       "Southwest (AZ, NM, OK, TX)                                         3.0  \n",
       "Plains (IA, KS, MN, MO, NE, ND, SD)                                3.0  \n",
       "Southeast (AL, AR, FL, GA, KY, LA, MS, NC, SC, ...                 3.0  \n",
       "Great Lakes (IL, IN, MI, OH, WI)                                   3.0  \n",
       "Mid East (DE, DC, MD, NJ, NY, PA)                                  3.0  \n",
       "New England (CT, ME, MA, NH, RI, VT)                               3.0  "
      ]
     },
     "execution_count": 16,
     "metadata": {},
     "output_type": "execute_result"
    }
   ],
   "source": [
    "tuition_df.groupby([\"Region\"]).median().sort_values(by=\"In-State-Tuition\")"
   ]
  },
  {
   "cell_type": "code",
   "execution_count": 17,
   "metadata": {},
   "outputs": [
    {
     "data": {
      "text/html": [
       "<div>\n",
       "<style scoped>\n",
       "    .dataframe tbody tr th:only-of-type {\n",
       "        vertical-align: middle;\n",
       "    }\n",
       "\n",
       "    .dataframe tbody tr th {\n",
       "        vertical-align: top;\n",
       "    }\n",
       "\n",
       "    .dataframe thead th {\n",
       "        text-align: right;\n",
       "    }\n",
       "</style>\n",
       "<table border=\"1\" class=\"dataframe\">\n",
       "  <thead>\n",
       "    <tr style=\"text-align: right;\">\n",
       "      <th></th>\n",
       "      <th>School</th>\n",
       "      <th>City</th>\n",
       "      <th>State</th>\n",
       "      <th>Region</th>\n",
       "      <th>In-State-Tuition</th>\n",
       "      <th>Out-of-State-Tuition</th>\n",
       "      <th>Control</th>\n",
       "      <th>Highest-Degree</th>\n",
       "      <th>Predominant-Degree</th>\n",
       "    </tr>\n",
       "  </thead>\n",
       "  <tbody>\n",
       "    <tr>\n",
       "      <th>0</th>\n",
       "      <td>Brigham Young University-Idaho</td>\n",
       "      <td>Rexburg</td>\n",
       "      <td>ID</td>\n",
       "      <td>Rocky Mountains (CO, ID, MT, UT, WY)</td>\n",
       "      <td>4416.0</td>\n",
       "      <td>4416.0</td>\n",
       "      <td>2</td>\n",
       "      <td>3</td>\n",
       "      <td>3</td>\n",
       "    </tr>\n",
       "    <tr>\n",
       "      <th>1</th>\n",
       "      <td>The University of Montana-Western</td>\n",
       "      <td>Dillon</td>\n",
       "      <td>MT</td>\n",
       "      <td>Rocky Mountains (CO, ID, MT, UT, WY)</td>\n",
       "      <td>5726.0</td>\n",
       "      <td>17190.0</td>\n",
       "      <td>1</td>\n",
       "      <td>3</td>\n",
       "      <td>3</td>\n",
       "    </tr>\n",
       "    <tr>\n",
       "      <th>2</th>\n",
       "      <td>Utah Tech University</td>\n",
       "      <td>Saint George</td>\n",
       "      <td>UT</td>\n",
       "      <td>Rocky Mountains (CO, ID, MT, UT, WY)</td>\n",
       "      <td>5862.0</td>\n",
       "      <td>16986.0</td>\n",
       "      <td>1</td>\n",
       "      <td>4</td>\n",
       "      <td>3</td>\n",
       "    </tr>\n",
       "    <tr>\n",
       "      <th>3</th>\n",
       "      <td>Montana State University-Northern</td>\n",
       "      <td>Havre</td>\n",
       "      <td>MT</td>\n",
       "      <td>Rocky Mountains (CO, ID, MT, UT, WY)</td>\n",
       "      <td>5955.0</td>\n",
       "      <td>18665.0</td>\n",
       "      <td>1</td>\n",
       "      <td>4</td>\n",
       "      <td>3</td>\n",
       "    </tr>\n",
       "    <tr>\n",
       "      <th>4</th>\n",
       "      <td>Montana State University Billings</td>\n",
       "      <td>Billings</td>\n",
       "      <td>MT</td>\n",
       "      <td>Rocky Mountains (CO, ID, MT, UT, WY)</td>\n",
       "      <td>6022.0</td>\n",
       "      <td>19352.0</td>\n",
       "      <td>1</td>\n",
       "      <td>4</td>\n",
       "      <td>3</td>\n",
       "    </tr>\n",
       "    <tr>\n",
       "      <th>5</th>\n",
       "      <td>Brigham Young University</td>\n",
       "      <td>Provo</td>\n",
       "      <td>UT</td>\n",
       "      <td>Rocky Mountains (CO, ID, MT, UT, WY)</td>\n",
       "      <td>6120.0</td>\n",
       "      <td>6120.0</td>\n",
       "      <td>2</td>\n",
       "      <td>4</td>\n",
       "      <td>3</td>\n",
       "    </tr>\n",
       "    <tr>\n",
       "      <th>6</th>\n",
       "      <td>University of Wyoming</td>\n",
       "      <td>Laramie</td>\n",
       "      <td>WY</td>\n",
       "      <td>Rocky Mountains (CO, ID, MT, UT, WY)</td>\n",
       "      <td>6277.0</td>\n",
       "      <td>20827.0</td>\n",
       "      <td>1</td>\n",
       "      <td>4</td>\n",
       "      <td>3</td>\n",
       "    </tr>\n",
       "    <tr>\n",
       "      <th>7</th>\n",
       "      <td>Southern Utah University</td>\n",
       "      <td>Cedar City</td>\n",
       "      <td>UT</td>\n",
       "      <td>Rocky Mountains (CO, ID, MT, UT, WY)</td>\n",
       "      <td>6726.0</td>\n",
       "      <td>20542.0</td>\n",
       "      <td>1</td>\n",
       "      <td>4</td>\n",
       "      <td>3</td>\n",
       "    </tr>\n",
       "    <tr>\n",
       "      <th>8</th>\n",
       "      <td>Lewis-Clark State College</td>\n",
       "      <td>Lewiston</td>\n",
       "      <td>ID</td>\n",
       "      <td>Rocky Mountains (CO, ID, MT, UT, WY)</td>\n",
       "      <td>6982.0</td>\n",
       "      <td>20238.0</td>\n",
       "      <td>1</td>\n",
       "      <td>3</td>\n",
       "      <td>3</td>\n",
       "    </tr>\n",
       "    <tr>\n",
       "      <th>9</th>\n",
       "      <td>Montana Technological University</td>\n",
       "      <td>Butte</td>\n",
       "      <td>MT</td>\n",
       "      <td>Rocky Mountains (CO, ID, MT, UT, WY)</td>\n",
       "      <td>7400.0</td>\n",
       "      <td>22570.0</td>\n",
       "      <td>1</td>\n",
       "      <td>4</td>\n",
       "      <td>3</td>\n",
       "    </tr>\n",
       "    <tr>\n",
       "      <th>10</th>\n",
       "      <td>The University of Montana</td>\n",
       "      <td>Missoula</td>\n",
       "      <td>MT</td>\n",
       "      <td>Rocky Mountains (CO, ID, MT, UT, WY)</td>\n",
       "      <td>7432.0</td>\n",
       "      <td>28416.0</td>\n",
       "      <td>1</td>\n",
       "      <td>4</td>\n",
       "      <td>3</td>\n",
       "    </tr>\n",
       "    <tr>\n",
       "      <th>11</th>\n",
       "      <td>Western Governors University</td>\n",
       "      <td>Salt Lake City</td>\n",
       "      <td>UT</td>\n",
       "      <td>Rocky Mountains (CO, ID, MT, UT, WY)</td>\n",
       "      <td>7452.0</td>\n",
       "      <td>7452.0</td>\n",
       "      <td>2</td>\n",
       "      <td>4</td>\n",
       "      <td>3</td>\n",
       "    </tr>\n",
       "    <tr>\n",
       "      <th>12</th>\n",
       "      <td>Montana State University</td>\n",
       "      <td>Bozeman</td>\n",
       "      <td>MT</td>\n",
       "      <td>Rocky Mountains (CO, ID, MT, UT, WY)</td>\n",
       "      <td>7528.0</td>\n",
       "      <td>28264.0</td>\n",
       "      <td>1</td>\n",
       "      <td>4</td>\n",
       "      <td>3</td>\n",
       "    </tr>\n",
       "    <tr>\n",
       "      <th>13</th>\n",
       "      <td>Midwives College of Utah</td>\n",
       "      <td>Salt Lake City</td>\n",
       "      <td>UT</td>\n",
       "      <td>Rocky Mountains (CO, ID, MT, UT, WY)</td>\n",
       "      <td>7719.0</td>\n",
       "      <td>7719.0</td>\n",
       "      <td>2</td>\n",
       "      <td>3</td>\n",
       "      <td>3</td>\n",
       "    </tr>\n",
       "    <tr>\n",
       "      <th>14</th>\n",
       "      <td>Idaho State University</td>\n",
       "      <td>Pocatello</td>\n",
       "      <td>ID</td>\n",
       "      <td>Rocky Mountains (CO, ID, MT, UT, WY)</td>\n",
       "      <td>7872.0</td>\n",
       "      <td>25326.0</td>\n",
       "      <td>1</td>\n",
       "      <td>4</td>\n",
       "      <td>3</td>\n",
       "    </tr>\n",
       "  </tbody>\n",
       "</table>\n",
       "</div>"
      ],
      "text/plain": [
       "                               School            City State  \\\n",
       "0      Brigham Young University-Idaho         Rexburg    ID   \n",
       "1   The University of Montana-Western          Dillon    MT   \n",
       "2                Utah Tech University    Saint George    UT   \n",
       "3   Montana State University-Northern           Havre    MT   \n",
       "4   Montana State University Billings        Billings    MT   \n",
       "5            Brigham Young University           Provo    UT   \n",
       "6               University of Wyoming         Laramie    WY   \n",
       "7            Southern Utah University      Cedar City    UT   \n",
       "8           Lewis-Clark State College        Lewiston    ID   \n",
       "9    Montana Technological University           Butte    MT   \n",
       "10          The University of Montana        Missoula    MT   \n",
       "11       Western Governors University  Salt Lake City    UT   \n",
       "12           Montana State University         Bozeman    MT   \n",
       "13           Midwives College of Utah  Salt Lake City    UT   \n",
       "14             Idaho State University       Pocatello    ID   \n",
       "\n",
       "                                  Region  In-State-Tuition  \\\n",
       "0   Rocky Mountains (CO, ID, MT, UT, WY)            4416.0   \n",
       "1   Rocky Mountains (CO, ID, MT, UT, WY)            5726.0   \n",
       "2   Rocky Mountains (CO, ID, MT, UT, WY)            5862.0   \n",
       "3   Rocky Mountains (CO, ID, MT, UT, WY)            5955.0   \n",
       "4   Rocky Mountains (CO, ID, MT, UT, WY)            6022.0   \n",
       "5   Rocky Mountains (CO, ID, MT, UT, WY)            6120.0   \n",
       "6   Rocky Mountains (CO, ID, MT, UT, WY)            6277.0   \n",
       "7   Rocky Mountains (CO, ID, MT, UT, WY)            6726.0   \n",
       "8   Rocky Mountains (CO, ID, MT, UT, WY)            6982.0   \n",
       "9   Rocky Mountains (CO, ID, MT, UT, WY)            7400.0   \n",
       "10  Rocky Mountains (CO, ID, MT, UT, WY)            7432.0   \n",
       "11  Rocky Mountains (CO, ID, MT, UT, WY)            7452.0   \n",
       "12  Rocky Mountains (CO, ID, MT, UT, WY)            7528.0   \n",
       "13  Rocky Mountains (CO, ID, MT, UT, WY)            7719.0   \n",
       "14  Rocky Mountains (CO, ID, MT, UT, WY)            7872.0   \n",
       "\n",
       "    Out-of-State-Tuition  Control  Highest-Degree  Predominant-Degree  \n",
       "0                 4416.0        2               3                   3  \n",
       "1                17190.0        1               3                   3  \n",
       "2                16986.0        1               4                   3  \n",
       "3                18665.0        1               4                   3  \n",
       "4                19352.0        1               4                   3  \n",
       "5                 6120.0        2               4                   3  \n",
       "6                20827.0        1               4                   3  \n",
       "7                20542.0        1               4                   3  \n",
       "8                20238.0        1               3                   3  \n",
       "9                22570.0        1               4                   3  \n",
       "10               28416.0        1               4                   3  \n",
       "11                7452.0        2               4                   3  \n",
       "12               28264.0        1               4                   3  \n",
       "13                7719.0        2               3                   3  \n",
       "14               25326.0        1               4                   3  "
      ]
     },
     "execution_count": 17,
     "metadata": {},
     "output_type": "execute_result"
    }
   ],
   "source": [
    "region_df[region_df[\"Region\"] == \"Rocky Mountains (CO, ID, MT, UT, WY)\"].sort_values(by=\"In-State-Tuition\").head(15).reset_index(drop=True)"
   ]
  }
 ],
 "metadata": {
  "kernelspec": {
   "display_name": ".venv",
   "language": "python",
   "name": "python3"
  },
  "language_info": {
   "codemirror_mode": {
    "name": "ipython",
    "version": 3
   },
   "file_extension": ".py",
   "mimetype": "text/x-python",
   "name": "python",
   "nbconvert_exporter": "python",
   "pygments_lexer": "ipython3",
   "version": "3.9.6"
  },
  "orig_nbformat": 4
 },
 "nbformat": 4,
 "nbformat_minor": 2
}
